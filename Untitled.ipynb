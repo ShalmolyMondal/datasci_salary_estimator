{
 "cells": [
  {
   "cell_type": "code",
   "execution_count": null,
   "id": "36b1427a-ab13-4e82-9d33-0e69413c5eb4",
   "metadata": {},
   "outputs": [],
   "source": []
  }
 ],
 "metadata": {
  "kernelspec": {
   "display_name": "Python 3 (ipykernel)",
   "language": "python",
   "name": "python3"
  },
  "language_info": {
   "name": ""
  }
 },
 "nbformat": 4,
 "nbformat_minor": 5
}
