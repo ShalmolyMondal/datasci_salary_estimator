{
 "cells": [
  {
   "cell_type": "code",
   "execution_count": 2,
   "metadata": {},
   "outputs": [],
   "source": [
    "import pandas as pd\n",
    "\n",
    "df = pd.read_csv(\"glassdoor_jobs.csv\")\n",
    "\n",
    "# Parse Salary\n",
    "# Company name text only\n",
    "# Split location\n",
    "# Parse job description (Python, React, etc)\n",
    "\n",
    "# Removed -1 from salary estimate\n",
    "df = df[df[\"Salary Estimate\"] != \"-1\"]"
   ]
  },
  {
   "cell_type": "code",
   "execution_count": 3,
   "metadata": {},
   "outputs": [
    {
     "data": {
      "text/plain": [
       "0       $53K-$91K \n",
       "1      $63K-$112K \n",
       "2       $80K-$90K \n",
       "3       $56K-$97K \n",
       "4      $86K-$143K \n",
       "          ...     \n",
       "950    $58K-$111K \n",
       "951    $72K-$133K \n",
       "952     $56K-$91K \n",
       "953    $95K-$160K \n",
       "955    $61K-$126K \n",
       "Name: Salary Estimate, Length: 742, dtype: object"
      ]
     },
     "execution_count": 3,
     "metadata": {},
     "output_type": "execute_result"
    }
   ],
   "source": [
    "# Removing text from salary column\n",
    "salary = df[\"Salary Estimate\"].apply(lambda x: x.split(\"(\")[0])\n",
    "salary"
   ]
  },
  {
   "cell_type": "code",
   "execution_count": 6,
   "metadata": {},
   "outputs": [
    {
     "data": {
      "text/plain": [
       "0                               $53K-$91K \n",
       "1                              $63K-$112K \n",
       "2                               $80K-$90K \n",
       "3                               $56K-$97K \n",
       "4                              $86K-$143K \n",
       "5                              $71K-$119K \n",
       "6                               $54K-$93K \n",
       "7                              $86K-$142K \n",
       "8                               $38K-$84K \n",
       "9                             $120K-$160K \n",
       "10                            $126K-$201K \n",
       "11                             $64K-$106K \n",
       "12                            $106K-$172K \n",
       "13                              $46K-$85K \n",
       "14                             $83K-$144K \n",
       "15                            $102K-$190K \n",
       "16                             $67K-$137K \n",
       "17                            $118K-$189K \n",
       "18                            $110K-$175K \n",
       "19                             $64K-$111K \n",
       "20                             $81K-$130K \n",
       "21                             $73K-$119K \n",
       "22                             $86K-$139K \n",
       "23                             $63K-$105K \n",
       "25                            $109K-$177K \n",
       "26                             $63K-$110K \n",
       "27                             $75K-$124K \n",
       "28                              $34K-$61K \n",
       "29                             $63K-$105K \n",
       "30                              $80K-$90K \n",
       "31                              $56K-$97K \n",
       "32                             $72K-$120K \n",
       "33                             $86K-$143K \n",
       "34                             $93K-$149K \n",
       "35                             $85K-$140K \n",
       "36                             $77K-$135K \n",
       "37                             $82K-$132K \n",
       "38                             $83K-$137K \n",
       "39                            $115K-$180K \n",
       "40                             $74K-$138K \n",
       "41                             $64K-$112K \n",
       "43                             $68K-$129K \n",
       "44                            $110K-$175K \n",
       "45                             $52K-$113K \n",
       "46                             $110K-$150K\n",
       "48    Employer Provided Salary:$150K-$160K\n",
       "49                            $158K-$211K \n",
       "50                              $20K-$39K \n",
       "51                             $56K-$117K \n",
       "52                              $63K-$99K \n",
       "Name: Salary Estimate, dtype: object"
      ]
     },
     "execution_count": 6,
     "metadata": {},
     "output_type": "execute_result"
    }
   ],
   "source": [
    "salary.head(50)"
   ]
  },
  {
   "cell_type": "code",
   "execution_count": 4,
   "metadata": {},
   "outputs": [],
   "source": [
    "#Removing K and Dollar from Salary\n",
    "minus_Kd = salary.apply(lambda x: x.replace('K','').replace('$',''))"
   ]
  },
  {
   "cell_type": "code",
   "execution_count": 5,
   "metadata": {},
   "outputs": [],
   "source": [
    "#salary parsing \n",
    "\n",
    "df['hourly'] = df['Salary Estimate'].apply(lambda x: 1 if 'per hour' in x.lower() else 0)\n",
    "df['employer_provided'] = df['Salary Estimate'].apply(lambda x: 1 if 'employer provided salary:' in x.lower() else 0)"
   ]
  },
  {
   "cell_type": "code",
   "execution_count": 6,
   "metadata": {},
   "outputs": [],
   "source": [
    "#Removing per hour and employer provided salary from \n",
    "min_hr = minus_Kd.apply(lambda x: x.lower().replace('per hour','').replace('employer provided salary:',''))"
   ]
  },
  {
   "cell_type": "code",
   "execution_count": 10,
   "metadata": {},
   "outputs": [],
   "source": [
    "df['min_salary'] = min_hr.apply(lambda x: int(x.split('-')[0]))\n",
    "df['max_salary'] = min_hr.apply(lambda x: int (x.split('-')[1]))\n",
    "# Calculate 'avg_salary'\n",
    "df['avg_salary'] = (df['min_salary'] + df['max_salary']) / 2"
   ]
  },
  {
   "cell_type": "code",
   "execution_count": 11,
   "metadata": {},
   "outputs": [],
   "source": [
    "#Extracting text from Company name \n",
    "df['company_txt'] = df.apply(lambda x: x['Company Name'] if x['Rating'] <0 else x['Company Name'][:-3], axis = 1)"
   ]
  }
 ],
 "metadata": {
  "kernelspec": {
   "display_name": "Python 3",
   "language": "python",
   "name": "python3"
  },
  "language_info": {
   "codemirror_mode": {
    "name": "ipython",
    "version": 3
   },
   "file_extension": ".py",
   "mimetype": "text/x-python",
   "name": "python",
   "nbconvert_exporter": "python",
   "pygments_lexer": "ipython3",
   "version": "3.8.13"
  }
 },
 "nbformat": 4,
 "nbformat_minor": 2
}
